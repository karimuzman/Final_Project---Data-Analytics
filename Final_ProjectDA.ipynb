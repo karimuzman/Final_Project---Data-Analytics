{
 "cells": [
  {
   "cell_type": "code",
   "execution_count": 4,
   "metadata": {},
   "outputs": [],
   "source": [
    "import pandas as pd\n",
    "import numpy as np\n",
    "import matplotlib.pyplot as plt\n",
    "import seaborn as sns\n",
    "%matplotlib inline\n",
    "from sklearn import metrics\n",
    "import warnings\n",
    "warnings.filterwarnings('ignore')"
   ]
  },
  {
   "cell_type": "code",
   "execution_count": 7,
   "metadata": {},
   "outputs": [
    {
     "data": {
      "text/html": [
       "<div>\n",
       "<style scoped>\n",
       "    .dataframe tbody tr th:only-of-type {\n",
       "        vertical-align: middle;\n",
       "    }\n",
       "\n",
       "    .dataframe tbody tr th {\n",
       "        vertical-align: top;\n",
       "    }\n",
       "\n",
       "    .dataframe thead th {\n",
       "        text-align: right;\n",
       "    }\n",
       "</style>\n",
       "<table border=\"1\" class=\"dataframe\">\n",
       "  <thead>\n",
       "    <tr style=\"text-align: right;\">\n",
       "      <th></th>\n",
       "      <th>SurgDate</th>\n",
       "      <th>DOW</th>\n",
       "      <th>T - 28</th>\n",
       "      <th>T - 21</th>\n",
       "      <th>T - 14</th>\n",
       "      <th>T - 13</th>\n",
       "      <th>T - 12</th>\n",
       "      <th>T - 11</th>\n",
       "      <th>T - 10</th>\n",
       "      <th>T - 9</th>\n",
       "      <th>T - 8</th>\n",
       "      <th>T - 7</th>\n",
       "      <th>T - 6</th>\n",
       "      <th>T - 5</th>\n",
       "      <th>T - 4</th>\n",
       "      <th>T - 3</th>\n",
       "      <th>T - 2</th>\n",
       "      <th>T - 1</th>\n",
       "      <th>Actual</th>\n",
       "    </tr>\n",
       "  </thead>\n",
       "  <tbody>\n",
       "    <tr>\n",
       "      <th>0</th>\n",
       "      <td>2011-10-10</td>\n",
       "      <td>Mon</td>\n",
       "      <td>38</td>\n",
       "      <td>45</td>\n",
       "      <td>60</td>\n",
       "      <td>63</td>\n",
       "      <td>65</td>\n",
       "      <td>70</td>\n",
       "      <td>73</td>\n",
       "      <td>73</td>\n",
       "      <td>73</td>\n",
       "      <td>80</td>\n",
       "      <td>84</td>\n",
       "      <td>89</td>\n",
       "      <td>94</td>\n",
       "      <td>98</td>\n",
       "      <td>100</td>\n",
       "      <td>104</td>\n",
       "      <td>106</td>\n",
       "    </tr>\n",
       "    <tr>\n",
       "      <th>1</th>\n",
       "      <td>2011-10-11</td>\n",
       "      <td>Tue</td>\n",
       "      <td>35</td>\n",
       "      <td>47</td>\n",
       "      <td>65</td>\n",
       "      <td>68</td>\n",
       "      <td>78</td>\n",
       "      <td>82</td>\n",
       "      <td>82</td>\n",
       "      <td>82</td>\n",
       "      <td>86</td>\n",
       "      <td>89</td>\n",
       "      <td>92</td>\n",
       "      <td>95</td>\n",
       "      <td>99</td>\n",
       "      <td>99</td>\n",
       "      <td>99</td>\n",
       "      <td>114</td>\n",
       "      <td>121</td>\n",
       "    </tr>\n",
       "    <tr>\n",
       "      <th>2</th>\n",
       "      <td>2011-10-12</td>\n",
       "      <td>Wed</td>\n",
       "      <td>26</td>\n",
       "      <td>43</td>\n",
       "      <td>54</td>\n",
       "      <td>62</td>\n",
       "      <td>72</td>\n",
       "      <td>72</td>\n",
       "      <td>72</td>\n",
       "      <td>74</td>\n",
       "      <td>87</td>\n",
       "      <td>94</td>\n",
       "      <td>96</td>\n",
       "      <td>101</td>\n",
       "      <td>102</td>\n",
       "      <td>102</td>\n",
       "      <td>106</td>\n",
       "      <td>114</td>\n",
       "      <td>126</td>\n",
       "    </tr>\n",
       "    <tr>\n",
       "      <th>3</th>\n",
       "      <td>2011-10-13</td>\n",
       "      <td>Thu</td>\n",
       "      <td>28</td>\n",
       "      <td>48</td>\n",
       "      <td>65</td>\n",
       "      <td>70</td>\n",
       "      <td>72</td>\n",
       "      <td>72</td>\n",
       "      <td>72</td>\n",
       "      <td>82</td>\n",
       "      <td>87</td>\n",
       "      <td>91</td>\n",
       "      <td>94</td>\n",
       "      <td>94</td>\n",
       "      <td>94</td>\n",
       "      <td>97</td>\n",
       "      <td>98</td>\n",
       "      <td>103</td>\n",
       "      <td>114</td>\n",
       "    </tr>\n",
       "    <tr>\n",
       "      <th>4</th>\n",
       "      <td>2011-10-14</td>\n",
       "      <td>Fri</td>\n",
       "      <td>31</td>\n",
       "      <td>40</td>\n",
       "      <td>50</td>\n",
       "      <td>50</td>\n",
       "      <td>50</td>\n",
       "      <td>54</td>\n",
       "      <td>62</td>\n",
       "      <td>68</td>\n",
       "      <td>71</td>\n",
       "      <td>73</td>\n",
       "      <td>73</td>\n",
       "      <td>73</td>\n",
       "      <td>78</td>\n",
       "      <td>83</td>\n",
       "      <td>87</td>\n",
       "      <td>94</td>\n",
       "      <td>106</td>\n",
       "    </tr>\n",
       "  </tbody>\n",
       "</table>\n",
       "</div>"
      ],
      "text/plain": [
       "    SurgDate  DOW  T - 28  T - 21  T - 14  T - 13  T - 12  T - 11  T - 10  \\\n",
       "0 2011-10-10  Mon      38      45      60      63      65      70      73   \n",
       "1 2011-10-11  Tue      35      47      65      68      78      82      82   \n",
       "2 2011-10-12  Wed      26      43      54      62      72      72      72   \n",
       "3 2011-10-13  Thu      28      48      65      70      72      72      72   \n",
       "4 2011-10-14  Fri      31      40      50      50      50      54      62   \n",
       "\n",
       "   T - 9  T - 8  T - 7  T - 6  T - 5  T - 4  T - 3  T - 2  T - 1  Actual  \n",
       "0     73     73     80     84     89     94     98    100    104     106  \n",
       "1     82     86     89     92     95     99     99     99    114     121  \n",
       "2     74     87     94     96    101    102    102    106    114     126  \n",
       "3     82     87     91     94     94     94     97     98    103     114  \n",
       "4     68     71     73     73     73     78     83     87     94     106  "
      ]
     },
     "execution_count": 7,
     "metadata": {},
     "output_type": "execute_result"
    }
   ],
   "source": [
    "df = pd.read_excel(r'C:\\Users\\Rediuser\\Desktop\\Data Analytics - ReDI\\Final Project\\Case Dataset.xlsx')\n",
    "\n",
    "df.head()"
   ]
  },
  {
   "cell_type": "code",
   "execution_count": 8,
   "metadata": {},
   "outputs": [
    {
     "data": {
      "text/plain": [
       "(241, 19)"
      ]
     },
     "execution_count": 8,
     "metadata": {},
     "output_type": "execute_result"
    }
   ],
   "source": [
    "df.shape"
   ]
  },
  {
   "cell_type": "code",
   "execution_count": 9,
   "metadata": {},
   "outputs": [
    {
     "name": "stdout",
     "output_type": "stream",
     "text": [
      "<class 'pandas.core.frame.DataFrame'>\n",
      "RangeIndex: 241 entries, 0 to 240\n",
      "Data columns (total 19 columns):\n",
      " #   Column    Non-Null Count  Dtype         \n",
      "---  ------    --------------  -----         \n",
      " 0   SurgDate  241 non-null    datetime64[ns]\n",
      " 1   DOW       241 non-null    object        \n",
      " 2   T - 28    241 non-null    int64         \n",
      " 3   T - 21    241 non-null    int64         \n",
      " 4   T - 14    241 non-null    int64         \n",
      " 5   T - 13    241 non-null    int64         \n",
      " 6   T - 12    241 non-null    int64         \n",
      " 7   T - 11    241 non-null    int64         \n",
      " 8   T - 10    241 non-null    int64         \n",
      " 9   T - 9     241 non-null    int64         \n",
      " 10  T - 8     241 non-null    int64         \n",
      " 11  T - 7     241 non-null    int64         \n",
      " 12  T - 6     241 non-null    int64         \n",
      " 13  T - 5     241 non-null    int64         \n",
      " 14  T - 4     241 non-null    int64         \n",
      " 15  T - 3     241 non-null    int64         \n",
      " 16  T - 2     241 non-null    int64         \n",
      " 17  T - 1     241 non-null    int64         \n",
      " 18  Actual    241 non-null    int64         \n",
      "dtypes: datetime64[ns](1), int64(17), object(1)\n",
      "memory usage: 35.9+ KB\n"
     ]
    }
   ],
   "source": [
    "df.info()"
   ]
  },
  {
   "cell_type": "code",
   "execution_count": 10,
   "metadata": {},
   "outputs": [
    {
     "data": {
      "text/html": [
       "<div>\n",
       "<style scoped>\n",
       "    .dataframe tbody tr th:only-of-type {\n",
       "        vertical-align: middle;\n",
       "    }\n",
       "\n",
       "    .dataframe tbody tr th {\n",
       "        vertical-align: top;\n",
       "    }\n",
       "\n",
       "    .dataframe thead th {\n",
       "        text-align: right;\n",
       "    }\n",
       "</style>\n",
       "<table border=\"1\" class=\"dataframe\">\n",
       "  <thead>\n",
       "    <tr style=\"text-align: right;\">\n",
       "      <th></th>\n",
       "      <th>SurgDate</th>\n",
       "      <th>T - 28</th>\n",
       "      <th>T - 21</th>\n",
       "      <th>T - 14</th>\n",
       "      <th>T - 13</th>\n",
       "      <th>T - 12</th>\n",
       "      <th>T - 11</th>\n",
       "      <th>T - 10</th>\n",
       "      <th>T - 9</th>\n",
       "      <th>T - 8</th>\n",
       "      <th>T - 7</th>\n",
       "      <th>T - 6</th>\n",
       "      <th>T - 5</th>\n",
       "      <th>T - 4</th>\n",
       "      <th>T - 3</th>\n",
       "      <th>T - 2</th>\n",
       "      <th>T - 1</th>\n",
       "      <th>Actual</th>\n",
       "    </tr>\n",
       "  </thead>\n",
       "  <tbody>\n",
       "    <tr>\n",
       "      <th>count</th>\n",
       "      <td>241</td>\n",
       "      <td>241.000000</td>\n",
       "      <td>241.000000</td>\n",
       "      <td>241.000000</td>\n",
       "      <td>241.000000</td>\n",
       "      <td>241.000000</td>\n",
       "      <td>241.000000</td>\n",
       "      <td>241.000000</td>\n",
       "      <td>241.000000</td>\n",
       "      <td>241.000000</td>\n",
       "      <td>241.000000</td>\n",
       "      <td>241.000000</td>\n",
       "      <td>241.000000</td>\n",
       "      <td>241.000000</td>\n",
       "      <td>241.000000</td>\n",
       "      <td>241.000000</td>\n",
       "      <td>241.000000</td>\n",
       "      <td>241.000000</td>\n",
       "    </tr>\n",
       "    <tr>\n",
       "      <th>mean</th>\n",
       "      <td>2012-03-27 04:46:48.298755072</td>\n",
       "      <td>34.261411</td>\n",
       "      <td>47.240664</td>\n",
       "      <td>64.439834</td>\n",
       "      <td>67.817427</td>\n",
       "      <td>70.502075</td>\n",
       "      <td>72.365145</td>\n",
       "      <td>74.946058</td>\n",
       "      <td>78.041494</td>\n",
       "      <td>82.336100</td>\n",
       "      <td>86.000000</td>\n",
       "      <td>89.269710</td>\n",
       "      <td>92.091286</td>\n",
       "      <td>94.688797</td>\n",
       "      <td>97.373444</td>\n",
       "      <td>101.165975</td>\n",
       "      <td>110.008299</td>\n",
       "      <td>116.381743</td>\n",
       "    </tr>\n",
       "    <tr>\n",
       "      <th>min</th>\n",
       "      <td>2011-10-10 00:00:00</td>\n",
       "      <td>0.000000</td>\n",
       "      <td>0.000000</td>\n",
       "      <td>0.000000</td>\n",
       "      <td>0.000000</td>\n",
       "      <td>0.000000</td>\n",
       "      <td>0.000000</td>\n",
       "      <td>0.000000</td>\n",
       "      <td>0.000000</td>\n",
       "      <td>0.000000</td>\n",
       "      <td>0.000000</td>\n",
       "      <td>0.000000</td>\n",
       "      <td>0.000000</td>\n",
       "      <td>0.000000</td>\n",
       "      <td>0.000000</td>\n",
       "      <td>0.000000</td>\n",
       "      <td>3.000000</td>\n",
       "      <td>11.000000</td>\n",
       "    </tr>\n",
       "    <tr>\n",
       "      <th>25%</th>\n",
       "      <td>2012-01-03 00:00:00</td>\n",
       "      <td>28.000000</td>\n",
       "      <td>41.000000</td>\n",
       "      <td>58.000000</td>\n",
       "      <td>62.000000</td>\n",
       "      <td>64.000000</td>\n",
       "      <td>66.000000</td>\n",
       "      <td>68.000000</td>\n",
       "      <td>71.000000</td>\n",
       "      <td>76.000000</td>\n",
       "      <td>80.000000</td>\n",
       "      <td>82.000000</td>\n",
       "      <td>84.000000</td>\n",
       "      <td>88.000000</td>\n",
       "      <td>91.000000</td>\n",
       "      <td>95.000000</td>\n",
       "      <td>102.000000</td>\n",
       "      <td>110.000000</td>\n",
       "    </tr>\n",
       "    <tr>\n",
       "      <th>50%</th>\n",
       "      <td>2012-03-27 00:00:00</td>\n",
       "      <td>35.000000</td>\n",
       "      <td>48.000000</td>\n",
       "      <td>65.000000</td>\n",
       "      <td>69.000000</td>\n",
       "      <td>72.000000</td>\n",
       "      <td>74.000000</td>\n",
       "      <td>77.000000</td>\n",
       "      <td>79.000000</td>\n",
       "      <td>85.000000</td>\n",
       "      <td>87.000000</td>\n",
       "      <td>91.000000</td>\n",
       "      <td>94.000000</td>\n",
       "      <td>97.000000</td>\n",
       "      <td>100.000000</td>\n",
       "      <td>103.000000</td>\n",
       "      <td>112.000000</td>\n",
       "      <td>117.000000</td>\n",
       "    </tr>\n",
       "    <tr>\n",
       "      <th>75%</th>\n",
       "      <td>2012-06-20 00:00:00</td>\n",
       "      <td>40.000000</td>\n",
       "      <td>55.000000</td>\n",
       "      <td>73.000000</td>\n",
       "      <td>76.000000</td>\n",
       "      <td>80.000000</td>\n",
       "      <td>82.000000</td>\n",
       "      <td>84.000000</td>\n",
       "      <td>86.000000</td>\n",
       "      <td>92.000000</td>\n",
       "      <td>95.000000</td>\n",
       "      <td>99.000000</td>\n",
       "      <td>103.000000</td>\n",
       "      <td>106.000000</td>\n",
       "      <td>107.000000</td>\n",
       "      <td>111.000000</td>\n",
       "      <td>119.000000</td>\n",
       "      <td>126.000000</td>\n",
       "    </tr>\n",
       "    <tr>\n",
       "      <th>max</th>\n",
       "      <td>2012-09-14 00:00:00</td>\n",
       "      <td>57.000000</td>\n",
       "      <td>73.000000</td>\n",
       "      <td>93.000000</td>\n",
       "      <td>99.000000</td>\n",
       "      <td>102.000000</td>\n",
       "      <td>106.000000</td>\n",
       "      <td>106.000000</td>\n",
       "      <td>112.000000</td>\n",
       "      <td>113.000000</td>\n",
       "      <td>118.000000</td>\n",
       "      <td>121.000000</td>\n",
       "      <td>121.000000</td>\n",
       "      <td>124.000000</td>\n",
       "      <td>127.000000</td>\n",
       "      <td>131.000000</td>\n",
       "      <td>139.000000</td>\n",
       "      <td>145.000000</td>\n",
       "    </tr>\n",
       "    <tr>\n",
       "      <th>std</th>\n",
       "      <td>NaN</td>\n",
       "      <td>9.387610</td>\n",
       "      <td>11.321079</td>\n",
       "      <td>13.495891</td>\n",
       "      <td>14.200934</td>\n",
       "      <td>14.873109</td>\n",
       "      <td>14.970786</td>\n",
       "      <td>15.096674</td>\n",
       "      <td>15.054842</td>\n",
       "      <td>15.594841</td>\n",
       "      <td>16.089075</td>\n",
       "      <td>16.911962</td>\n",
       "      <td>17.370472</td>\n",
       "      <td>17.468264</td>\n",
       "      <td>17.589816</td>\n",
       "      <td>17.547004</td>\n",
       "      <td>17.785057</td>\n",
       "      <td>17.629388</td>\n",
       "    </tr>\n",
       "  </tbody>\n",
       "</table>\n",
       "</div>"
      ],
      "text/plain": [
       "                            SurgDate      T - 28      T - 21      T - 14  \\\n",
       "count                            241  241.000000  241.000000  241.000000   \n",
       "mean   2012-03-27 04:46:48.298755072   34.261411   47.240664   64.439834   \n",
       "min              2011-10-10 00:00:00    0.000000    0.000000    0.000000   \n",
       "25%              2012-01-03 00:00:00   28.000000   41.000000   58.000000   \n",
       "50%              2012-03-27 00:00:00   35.000000   48.000000   65.000000   \n",
       "75%              2012-06-20 00:00:00   40.000000   55.000000   73.000000   \n",
       "max              2012-09-14 00:00:00   57.000000   73.000000   93.000000   \n",
       "std                              NaN    9.387610   11.321079   13.495891   \n",
       "\n",
       "           T - 13      T - 12      T - 11      T - 10       T - 9       T - 8  \\\n",
       "count  241.000000  241.000000  241.000000  241.000000  241.000000  241.000000   \n",
       "mean    67.817427   70.502075   72.365145   74.946058   78.041494   82.336100   \n",
       "min      0.000000    0.000000    0.000000    0.000000    0.000000    0.000000   \n",
       "25%     62.000000   64.000000   66.000000   68.000000   71.000000   76.000000   \n",
       "50%     69.000000   72.000000   74.000000   77.000000   79.000000   85.000000   \n",
       "75%     76.000000   80.000000   82.000000   84.000000   86.000000   92.000000   \n",
       "max     99.000000  102.000000  106.000000  106.000000  112.000000  113.000000   \n",
       "std     14.200934   14.873109   14.970786   15.096674   15.054842   15.594841   \n",
       "\n",
       "            T - 7       T - 6       T - 5       T - 4       T - 3       T - 2  \\\n",
       "count  241.000000  241.000000  241.000000  241.000000  241.000000  241.000000   \n",
       "mean    86.000000   89.269710   92.091286   94.688797   97.373444  101.165975   \n",
       "min      0.000000    0.000000    0.000000    0.000000    0.000000    0.000000   \n",
       "25%     80.000000   82.000000   84.000000   88.000000   91.000000   95.000000   \n",
       "50%     87.000000   91.000000   94.000000   97.000000  100.000000  103.000000   \n",
       "75%     95.000000   99.000000  103.000000  106.000000  107.000000  111.000000   \n",
       "max    118.000000  121.000000  121.000000  124.000000  127.000000  131.000000   \n",
       "std     16.089075   16.911962   17.370472   17.468264   17.589816   17.547004   \n",
       "\n",
       "            T - 1      Actual  \n",
       "count  241.000000  241.000000  \n",
       "mean   110.008299  116.381743  \n",
       "min      3.000000   11.000000  \n",
       "25%    102.000000  110.000000  \n",
       "50%    112.000000  117.000000  \n",
       "75%    119.000000  126.000000  \n",
       "max    139.000000  145.000000  \n",
       "std     17.785057   17.629388  "
      ]
     },
     "execution_count": 10,
     "metadata": {},
     "output_type": "execute_result"
    }
   ],
   "source": [
    "df.describe()"
   ]
  },
  {
   "cell_type": "code",
   "execution_count": 54,
   "metadata": {},
   "outputs": [
    {
     "ename": "ValueError",
     "evalue": "could not convert string to float: 'Mon'",
     "output_type": "error",
     "traceback": [
      "\u001b[1;31m---------------------------------------------------------------------------\u001b[0m",
      "\u001b[1;31mValueError\u001b[0m                                Traceback (most recent call last)",
      "\u001b[1;32mc:\\Users\\Rediuser\\Desktop\\Data Analytics - ReDI\\Final Project\\Final_ProjectDA.ipynb Cell 6\u001b[0m line \u001b[0;36m1\n\u001b[1;32m----> <a href='vscode-notebook-cell:/c%3A/Users/Rediuser/Desktop/Data%20Analytics%20-%20ReDI/Final%20Project/Final_ProjectDA.ipynb#W5sZmlsZQ%3D%3D?line=0'>1</a>\u001b[0m df\u001b[39m.\u001b[39;49mcorr()\n",
      "File \u001b[1;32mc:\\Users\\Rediuser\\AppData\\Local\\Programs\\Python\\Python311\\Lib\\site-packages\\pandas\\core\\frame.py:10704\u001b[0m, in \u001b[0;36mDataFrame.corr\u001b[1;34m(self, method, min_periods, numeric_only)\u001b[0m\n\u001b[0;32m  10702\u001b[0m cols \u001b[39m=\u001b[39m data\u001b[39m.\u001b[39mcolumns\n\u001b[0;32m  10703\u001b[0m idx \u001b[39m=\u001b[39m cols\u001b[39m.\u001b[39mcopy()\n\u001b[1;32m> 10704\u001b[0m mat \u001b[39m=\u001b[39m data\u001b[39m.\u001b[39;49mto_numpy(dtype\u001b[39m=\u001b[39;49m\u001b[39mfloat\u001b[39;49m, na_value\u001b[39m=\u001b[39;49mnp\u001b[39m.\u001b[39;49mnan, copy\u001b[39m=\u001b[39;49m\u001b[39mFalse\u001b[39;49;00m)\n\u001b[0;32m  10706\u001b[0m \u001b[39mif\u001b[39;00m method \u001b[39m==\u001b[39m \u001b[39m\"\u001b[39m\u001b[39mpearson\u001b[39m\u001b[39m\"\u001b[39m:\n\u001b[0;32m  10707\u001b[0m     correl \u001b[39m=\u001b[39m libalgos\u001b[39m.\u001b[39mnancorr(mat, minp\u001b[39m=\u001b[39mmin_periods)\n",
      "File \u001b[1;32mc:\\Users\\Rediuser\\AppData\\Local\\Programs\\Python\\Python311\\Lib\\site-packages\\pandas\\core\\frame.py:1889\u001b[0m, in \u001b[0;36mDataFrame.to_numpy\u001b[1;34m(self, dtype, copy, na_value)\u001b[0m\n\u001b[0;32m   1887\u001b[0m \u001b[39mif\u001b[39;00m dtype \u001b[39mis\u001b[39;00m \u001b[39mnot\u001b[39;00m \u001b[39mNone\u001b[39;00m:\n\u001b[0;32m   1888\u001b[0m     dtype \u001b[39m=\u001b[39m np\u001b[39m.\u001b[39mdtype(dtype)\n\u001b[1;32m-> 1889\u001b[0m result \u001b[39m=\u001b[39m \u001b[39mself\u001b[39;49m\u001b[39m.\u001b[39;49m_mgr\u001b[39m.\u001b[39;49mas_array(dtype\u001b[39m=\u001b[39;49mdtype, copy\u001b[39m=\u001b[39;49mcopy, na_value\u001b[39m=\u001b[39;49mna_value)\n\u001b[0;32m   1890\u001b[0m \u001b[39mif\u001b[39;00m result\u001b[39m.\u001b[39mdtype \u001b[39mis\u001b[39;00m \u001b[39mnot\u001b[39;00m dtype:\n\u001b[0;32m   1891\u001b[0m     result \u001b[39m=\u001b[39m np\u001b[39m.\u001b[39marray(result, dtype\u001b[39m=\u001b[39mdtype, copy\u001b[39m=\u001b[39m\u001b[39mFalse\u001b[39;00m)\n",
      "File \u001b[1;32mc:\\Users\\Rediuser\\AppData\\Local\\Programs\\Python\\Python311\\Lib\\site-packages\\pandas\\core\\internals\\managers.py:1656\u001b[0m, in \u001b[0;36mBlockManager.as_array\u001b[1;34m(self, dtype, copy, na_value)\u001b[0m\n\u001b[0;32m   1654\u001b[0m         arr\u001b[39m.\u001b[39mflags\u001b[39m.\u001b[39mwriteable \u001b[39m=\u001b[39m \u001b[39mFalse\u001b[39;00m\n\u001b[0;32m   1655\u001b[0m \u001b[39melse\u001b[39;00m:\n\u001b[1;32m-> 1656\u001b[0m     arr \u001b[39m=\u001b[39m \u001b[39mself\u001b[39;49m\u001b[39m.\u001b[39;49m_interleave(dtype\u001b[39m=\u001b[39;49mdtype, na_value\u001b[39m=\u001b[39;49mna_value)\n\u001b[0;32m   1657\u001b[0m     \u001b[39m# The underlying data was copied within _interleave, so no need\u001b[39;00m\n\u001b[0;32m   1658\u001b[0m     \u001b[39m# to further copy if copy=True or setting na_value\u001b[39;00m\n\u001b[0;32m   1660\u001b[0m \u001b[39mif\u001b[39;00m na_value \u001b[39mis\u001b[39;00m lib\u001b[39m.\u001b[39mno_default:\n",
      "File \u001b[1;32mc:\\Users\\Rediuser\\AppData\\Local\\Programs\\Python\\Python311\\Lib\\site-packages\\pandas\\core\\internals\\managers.py:1715\u001b[0m, in \u001b[0;36mBlockManager._interleave\u001b[1;34m(self, dtype, na_value)\u001b[0m\n\u001b[0;32m   1713\u001b[0m     \u001b[39melse\u001b[39;00m:\n\u001b[0;32m   1714\u001b[0m         arr \u001b[39m=\u001b[39m blk\u001b[39m.\u001b[39mget_values(dtype)\n\u001b[1;32m-> 1715\u001b[0m     result[rl\u001b[39m.\u001b[39;49mindexer] \u001b[39m=\u001b[39m arr\n\u001b[0;32m   1716\u001b[0m     itemmask[rl\u001b[39m.\u001b[39mindexer] \u001b[39m=\u001b[39m \u001b[39m1\u001b[39m\n\u001b[0;32m   1718\u001b[0m \u001b[39mif\u001b[39;00m \u001b[39mnot\u001b[39;00m itemmask\u001b[39m.\u001b[39mall():\n",
      "\u001b[1;31mValueError\u001b[0m: could not convert string to float: 'Mon'"
     ]
    }
   ],
   "source": [
    "df.corr()"
   ]
  },
  {
   "cell_type": "code",
   "execution_count": 62,
   "metadata": {},
   "outputs": [
    {
     "ename": "NameError",
     "evalue": "name 'correlation_matrix' is not defined",
     "output_type": "error",
     "traceback": [
      "\u001b[1;31m---------------------------------------------------------------------------\u001b[0m",
      "\u001b[1;31mNameError\u001b[0m                                 Traceback (most recent call last)",
      "\u001b[1;32mc:\\Users\\Rediuser\\Desktop\\Data Analytics - ReDI\\Final Project\\Final_ProjectDA.ipynb Cell 7\u001b[0m line \u001b[0;36m3\n\u001b[0;32m      <a href='vscode-notebook-cell:/c%3A/Users/Rediuser/Desktop/Data%20Analytics%20-%20ReDI/Final%20Project/Final_ProjectDA.ipynb#W6sZmlsZQ%3D%3D?line=0'>1</a>\u001b[0m \u001b[39m# 'correlation_matrix' contains the correlation data\u001b[39;00m\n\u001b[0;32m      <a href='vscode-notebook-cell:/c%3A/Users/Rediuser/Desktop/Data%20Analytics%20-%20ReDI/Final%20Project/Final_ProjectDA.ipynb#W6sZmlsZQ%3D%3D?line=1'>2</a>\u001b[0m plt\u001b[39m.\u001b[39mfigure(figsize\u001b[39m=\u001b[39m(\u001b[39m12\u001b[39m, \u001b[39m10\u001b[39m))\n\u001b[1;32m----> <a href='vscode-notebook-cell:/c%3A/Users/Rediuser/Desktop/Data%20Analytics%20-%20ReDI/Final%20Project/Final_ProjectDA.ipynb#W6sZmlsZQ%3D%3D?line=2'>3</a>\u001b[0m sns\u001b[39m.\u001b[39mheatmap(data \u001b[39m=\u001b[39m correlation_matrix, annot\u001b[39m=\u001b[39m\u001b[39mTrue\u001b[39;00m, cmap\u001b[39m=\u001b[39m\u001b[39m'\u001b[39m\u001b[39mcoolwarm\u001b[39m\u001b[39m'\u001b[39m, fmt\u001b[39m=\u001b[39m\u001b[39m\"\u001b[39m\u001b[39m.2f\u001b[39m\u001b[39m\"\u001b[39m, linewidths\u001b[39m=\u001b[39m\u001b[39m.8\u001b[39m)\n\u001b[0;32m      <a href='vscode-notebook-cell:/c%3A/Users/Rediuser/Desktop/Data%20Analytics%20-%20ReDI/Final%20Project/Final_ProjectDA.ipynb#W6sZmlsZQ%3D%3D?line=3'>4</a>\u001b[0m plt\u001b[39m.\u001b[39mtitle(\u001b[39m'\u001b[39m\u001b[39mCorrelation Heat Map\u001b[39m\u001b[39m'\u001b[39m)\n\u001b[0;32m      <a href='vscode-notebook-cell:/c%3A/Users/Rediuser/Desktop/Data%20Analytics%20-%20ReDI/Final%20Project/Final_ProjectDA.ipynb#W6sZmlsZQ%3D%3D?line=4'>5</a>\u001b[0m plt\u001b[39m.\u001b[39mshow()\n",
      "\u001b[1;31mNameError\u001b[0m: name 'correlation_matrix' is not defined"
     ]
    },
    {
     "data": {
      "text/plain": [
       "<Figure size 1200x1000 with 0 Axes>"
      ]
     },
     "metadata": {},
     "output_type": "display_data"
    }
   ],
   "source": [
    "# 'correlation_matrix' contains the correlation data\n",
    "plt.figure(figsize=(12, 10))\n",
    "sns.heatmap(data = correlation_matrix, annot=True, cmap='coolwarm', fmt=\".2f\", linewidths=.8)\n",
    "plt.title('Correlation Heat Map')\n",
    "plt.show()"
   ]
  },
  {
   "cell_type": "code",
   "execution_count": 63,
   "metadata": {},
   "outputs": [],
   "source": [
    "# Corr(T-1,Actual)=0.96\n",
    "# Corr(T-3,Actual)=0.91\n",
    "# Corr(T-7,Actual)=0.90\n",
    "# Corr(T-14,Actual)=0.80\n",
    "# Corr(T-21,Actual)=0.70\n",
    "# Corr(T-28,Actual)=0.61\n",
    "\n",
    "# Average number of surgery cases increases  as we move closer to actual day\n",
    "# As the gap from surgery day increase, the correlation decreases\n",
    "# From the correlation matrix, almost all the correlations are significantly high."
   ]
  },
  {
   "cell_type": "code",
   "execution_count": 64,
   "metadata": {},
   "outputs": [
    {
     "data": {
      "text/plain": [
       "(DOW\n",
       " Fri    105.612245\n",
       " Mon    116.255319\n",
       " Thu    124.083333\n",
       " Tue    119.081633\n",
       " Wed    117.041667\n",
       " Name: Actual, dtype: float64,\n",
       " DOW\n",
       " Fri    26.357175\n",
       " Mon    18.456138\n",
       " Thu    10.379672\n",
       " Tue    10.864385\n",
       " Wed    11.240047\n",
       " Name: Actual, dtype: float64)"
      ]
     },
     "execution_count": 64,
     "metadata": {},
     "output_type": "execute_result"
    }
   ],
   "source": [
    "df.groupby('DOW')['Actual'].mean(), df.groupby('DOW')['Actual'].std()"
   ]
  },
  {
   "cell_type": "code",
   "execution_count": 65,
   "metadata": {},
   "outputs": [],
   "source": [
    "# Average of actual surgery is 116 with standard deviation of 17.63"
   ]
  },
  {
   "cell_type": "code",
   "execution_count": 66,
   "metadata": {},
   "outputs": [
    {
     "data": {
      "text/plain": [
       "(DOW\n",
       " Fri     97.428571\n",
       " Mon    110.787234\n",
       " Thu    117.583333\n",
       " Tue    114.020408\n",
       " Wed    110.416667\n",
       " Name: T - 1, dtype: float64,\n",
       " DOW\n",
       " Fri    25.922159\n",
       " Mon    18.863279\n",
       " Thu    10.394011\n",
       " Tue    10.296621\n",
       " Wed    11.100764\n",
       " Name: T - 1, dtype: float64)"
      ]
     },
     "execution_count": 66,
     "metadata": {},
     "output_type": "execute_result"
    }
   ],
   "source": [
    "# Validating for T - 1\n",
    "df.groupby('DOW')['T - 1'].mean(), df.groupby('DOW')['T - 1'].std()"
   ]
  },
  {
   "cell_type": "code",
   "execution_count": 67,
   "metadata": {},
   "outputs": [
    {
     "data": {
      "text/plain": [
       "DOW\n",
       "Tue    49\n",
       "Fri    49\n",
       "Wed    48\n",
       "Thu    48\n",
       "Mon    47\n",
       "Name: count, dtype: int64"
      ]
     },
     "execution_count": 67,
     "metadata": {},
     "output_type": "execute_result"
    }
   ],
   "source": [
    "df['DOW'].value_counts()"
   ]
  },
  {
   "cell_type": "code",
   "execution_count": 68,
   "metadata": {},
   "outputs": [
    {
     "data": {
      "image/png": "[encoded data removed]",
      "text/plain": [
       "<Figure size 640x480 with 1 Axes>"
      ]
     },
     "metadata": {},
     "output_type": "display_data"
    }
   ],
   "source": [
    "# Trend of Number of Surgeries performed by Day of Week\n",
    "df2 = df[['DOW', 'Actual']]\n",
    "ax = sns.barplot(x='DOW',y='Actual', data=df, palette='coolwarm')"
   ]
  },
  {
   "cell_type": "code",
   "execution_count": 69,
   "metadata": {},
   "outputs": [
    {
     "data": {
      "text/plain": [
       "<Axes: xlabel='DOW', ylabel='Actual'>"
      ]
     },
     "execution_count": 69,
     "metadata": {},
     "output_type": "execute_result"
    },
    {
     "data": {
      "image/png": "[encoded data removed]",
      "text/plain": [
       "<Figure size 640x480 with 1 Axes>"
      ]
     },
     "metadata": {},
     "output_type": "display_data"
    }
   ],
   "source": [
    "sns.boxplot(x='DOW',y='Actual', data=df, palette='coolwarm')"
   ]
  },
  {
   "cell_type": "code",
   "execution_count": 70,
   "metadata": {},
   "outputs": [],
   "source": [
    "# Fridays have lowest number of surgeries which may be indicate surgeon preferences\n",
    "# Thursdays have lowest number of surgeries\n",
    "# Alternatively, the high number of surgeries on Thursday might be due to add-on cases "
   ]
  },
  {
   "cell_type": "code",
   "execution_count": 71,
   "metadata": {},
   "outputs": [],
   "source": [
    "test=df.loc[1:242, 'T - 28':'T - 1']"
   ]
  },
  {
   "cell_type": "code",
   "execution_count": 72,
   "metadata": {},
   "outputs": [],
   "source": [
    "mean = test.mean()\n",
    "maximum = test.max()\n",
    "std = test.std()"
   ]
  },
  {
   "cell_type": "code",
   "execution_count": 73,
   "metadata": {},
   "outputs": [
    {
     "data": {
      "text/html": [
       "<div>\n",
       "<style scoped>\n",
       "    .dataframe tbody tr th:only-of-type {\n",
       "        vertical-align: middle;\n",
       "    }\n",
       "\n",
       "    .dataframe tbody tr th {\n",
       "        vertical-align: top;\n",
       "    }\n",
       "\n",
       "    .dataframe thead th {\n",
       "        text-align: right;\n",
       "    }\n",
       "</style>\n",
       "<table border=\"1\" class=\"dataframe\">\n",
       "  <thead>\n",
       "    <tr style=\"text-align: right;\">\n",
       "      <th></th>\n",
       "      <th>Mean</th>\n",
       "      <th>Maximum</th>\n",
       "      <th>Standard Deviation</th>\n",
       "    </tr>\n",
       "  </thead>\n",
       "  <tbody>\n",
       "    <tr>\n",
       "      <th>T - 28</th>\n",
       "      <td>34.245833</td>\n",
       "      <td>57</td>\n",
       "      <td>9.404107</td>\n",
       "    </tr>\n",
       "    <tr>\n",
       "      <th>T - 21</th>\n",
       "      <td>47.250000</td>\n",
       "      <td>73</td>\n",
       "      <td>11.343809</td>\n",
       "    </tr>\n",
       "    <tr>\n",
       "      <th>T - 14</th>\n",
       "      <td>64.458333</td>\n",
       "      <td>93</td>\n",
       "      <td>13.521033</td>\n",
       "    </tr>\n",
       "    <tr>\n",
       "      <th>T - 13</th>\n",
       "      <td>67.837500</td>\n",
       "      <td>99</td>\n",
       "      <td>14.227186</td>\n",
       "    </tr>\n",
       "    <tr>\n",
       "      <th>T - 12</th>\n",
       "      <td>70.525000</td>\n",
       "      <td>102</td>\n",
       "      <td>14.899924</td>\n",
       "    </tr>\n",
       "    <tr>\n",
       "      <th>T - 11</th>\n",
       "      <td>72.375000</td>\n",
       "      <td>106</td>\n",
       "      <td>15.001290</td>\n",
       "    </tr>\n",
       "    <tr>\n",
       "      <th>T - 10</th>\n",
       "      <td>74.954167</td>\n",
       "      <td>106</td>\n",
       "      <td>15.127699</td>\n",
       "    </tr>\n",
       "    <tr>\n",
       "      <th>T - 9</th>\n",
       "      <td>78.062500</td>\n",
       "      <td>112</td>\n",
       "      <td>15.082765</td>\n",
       "    </tr>\n",
       "    <tr>\n",
       "      <th>T - 8</th>\n",
       "      <td>82.375000</td>\n",
       "      <td>113</td>\n",
       "      <td>15.615711</td>\n",
       "    </tr>\n",
       "    <tr>\n",
       "      <th>T - 7</th>\n",
       "      <td>86.025000</td>\n",
       "      <td>118</td>\n",
       "      <td>16.118008</td>\n",
       "    </tr>\n",
       "    <tr>\n",
       "      <th>T - 6</th>\n",
       "      <td>89.291667</td>\n",
       "      <td>121</td>\n",
       "      <td>16.943863</td>\n",
       "    </tr>\n",
       "    <tr>\n",
       "      <th>T - 5</th>\n",
       "      <td>92.104167</td>\n",
       "      <td>121</td>\n",
       "      <td>17.405621</td>\n",
       "    </tr>\n",
       "    <tr>\n",
       "      <th>T - 4</th>\n",
       "      <td>94.691667</td>\n",
       "      <td>124</td>\n",
       "      <td>17.504713</td>\n",
       "    </tr>\n",
       "    <tr>\n",
       "      <th>T - 3</th>\n",
       "      <td>97.370833</td>\n",
       "      <td>127</td>\n",
       "      <td>17.626530</td>\n",
       "    </tr>\n",
       "    <tr>\n",
       "      <th>T - 2</th>\n",
       "      <td>101.170833</td>\n",
       "      <td>131</td>\n",
       "      <td>17.583512</td>\n",
       "    </tr>\n",
       "    <tr>\n",
       "      <th>T - 1</th>\n",
       "      <td>110.033333</td>\n",
       "      <td>139</td>\n",
       "      <td>17.817970</td>\n",
       "    </tr>\n",
       "  </tbody>\n",
       "</table>\n",
       "</div>"
      ],
      "text/plain": [
       "              Mean  Maximum  Standard Deviation\n",
       "T - 28   34.245833       57            9.404107\n",
       "T - 21   47.250000       73           11.343809\n",
       "T - 14   64.458333       93           13.521033\n",
       "T - 13   67.837500       99           14.227186\n",
       "T - 12   70.525000      102           14.899924\n",
       "T - 11   72.375000      106           15.001290\n",
       "T - 10   74.954167      106           15.127699\n",
       "T - 9    78.062500      112           15.082765\n",
       "T - 8    82.375000      113           15.615711\n",
       "T - 7    86.025000      118           16.118008\n",
       "T - 6    89.291667      121           16.943863\n",
       "T - 5    92.104167      121           17.405621\n",
       "T - 4    94.691667      124           17.504713\n",
       "T - 3    97.370833      127           17.626530\n",
       "T - 2   101.170833      131           17.583512\n",
       "T - 1   110.033333      139           17.817970"
      ]
     },
     "execution_count": 73,
     "metadata": {},
     "output_type": "execute_result"
    }
   ],
   "source": [
    "a = pd.DataFrame(mean)\n",
    "b = pd.DataFrame(maximum)\n",
    "c = pd.DataFrame(std)\n",
    "new = pd.concat([a,b,c], axis = 1)\n",
    "new.columns = ['Mean', 'Maximum', 'Standard Deviation']\n",
    "new"
   ]
  },
  {
   "cell_type": "code",
   "execution_count": 78,
   "metadata": {},
   "outputs": [],
   "source": [
    "# ANOVA TEST\n",
    "# Null Hypothesis: Total surgical case volume does not differ based on the day of week\n",
    "# Alternative Hypothesis: Total surgical case volume differs based on the day of week"
   ]
  },
  {
   "cell_type": "code",
   "execution_count": 76,
   "metadata": {},
   "outputs": [
    {
     "data": {
      "text/html": [
       "<div>\n",
       "<style scoped>\n",
       "    .dataframe tbody tr th:only-of-type {\n",
       "        vertical-align: middle;\n",
       "    }\n",
       "\n",
       "    .dataframe tbody tr th {\n",
       "        vertical-align: top;\n",
       "    }\n",
       "\n",
       "    .dataframe thead th {\n",
       "        text-align: right;\n",
       "    }\n",
       "</style>\n",
       "<table border=\"1\" class=\"dataframe\">\n",
       "  <thead>\n",
       "    <tr style=\"text-align: right;\">\n",
       "      <th></th>\n",
       "      <th>sum_sq</th>\n",
       "      <th>df</th>\n",
       "      <th>F</th>\n",
       "      <th>PR(&gt;F)</th>\n",
       "    </tr>\n",
       "  </thead>\n",
       "  <tbody>\n",
       "    <tr>\n",
       "      <th>DOW</th>\n",
       "      <td>8909.054042</td>\n",
       "      <td>4.0</td>\n",
       "      <td>8.002734</td>\n",
       "      <td>0.000005</td>\n",
       "    </tr>\n",
       "    <tr>\n",
       "      <th>Residual</th>\n",
       "      <td>65681.825626</td>\n",
       "      <td>236.0</td>\n",
       "      <td>NaN</td>\n",
       "      <td>NaN</td>\n",
       "    </tr>\n",
       "  </tbody>\n",
       "</table>\n",
       "</div>"
      ],
      "text/plain": [
       "                sum_sq     df         F    PR(>F)\n",
       "DOW        8909.054042    4.0  8.002734  0.000005\n",
       "Residual  65681.825626  236.0       NaN       NaN"
      ]
     },
     "execution_count": 76,
     "metadata": {},
     "output_type": "execute_result"
    }
   ],
   "source": [
    "import statsmodels.api as sm\n",
    "from statsmodels.formula.api import ols\n",
    "\n",
    "model = ols('Actual ~ DOW', data=df).fit()\n",
    "aov_table = sm.stats.anova_lm(model, typ=2)\n",
    "aov_table"
   ]
  },
  {
   "cell_type": "code",
   "execution_count": 79,
   "metadata": {},
   "outputs": [],
   "source": [
    "# this code fits a linear regression model to the data with 'Actual' as the dependent variable and 'DOW' as the independent variable,\n",
    "# and then performs a type 2 ANOVA to analyze the significance of the variables in the model.\n",
    "# The p value obtained from ANOVA analysis is significant (p < 0.05)\n",
    "# Therefore, we can conclude that there are significant differences among treatments \n",
    "# We reject the null hypothesis and accept alternative hypothesis that total surgical case volume differ by DOW"
   ]
  },
  {
   "cell_type": "code",
   "execution_count": 83,
   "metadata": {},
   "outputs": [],
   "source": [
    "# Approaches:\n",
    "# Model : Linear Regression\n",
    "\n",
    "# Dependent variable: Actual Surgery\n",
    "# Independent variables: T - 28 to T - 4\n",
    "\n",
    "# We will not consider last 3 days for our model building:\n",
    "\n",
    "# Business: Stakeholders would like to know scheduled surgery few days before actual date\n",
    "# Technical: Highest correlation with the actual surgery variable (from previous corr EDA)\n",
    "# Linear Regression\n",
    "# Data Cleaning: Removed outliers to make the dependent variable uniformly distributed\n",
    "\n",
    "# Regression Equation:\n",
    "\n",
    "# x = a1T-28 + a2T-21 + ..... + axT-1 + axDOW"
   ]
  },
  {
   "cell_type": "code",
   "execution_count": 84,
   "metadata": {},
   "outputs": [],
   "source": [
    "df1 = df.drop(columns = ['SurgDate', 'DOW'])"
   ]
  },
  {
   "cell_type": "code",
   "execution_count": 85,
   "metadata": {},
   "outputs": [],
   "source": [
    "from scipy import stats\n",
    "df1 = df1[(np.abs(stats.zscore(df1)) < 3).all(axis=1)]"
   ]
  },
  {
   "cell_type": "code",
   "execution_count": 87,
   "metadata": {},
   "outputs": [],
   "source": [
    "# Baseline model\n",
    "\n",
    "# x = df1[['T - 28', 'T - 21', 'T - 14', 'T - 13', 'T - 12', 'T - 11', 'T - 10', 'T - 9', 'T - 8', \n",
    "#          'T - 7', 'T - 6', 'T - 5', 'T - 4', 'T - 3', 'T - 2']]\n",
    "# y = df1[['Actual']]"
   ]
  },
  {
   "cell_type": "code",
   "execution_count": 108,
   "metadata": {},
   "outputs": [],
   "source": [
    "x = df1[['T - 3', 'T - 2', 'T - 1']]\n",
    "y = df1[['Actual']]"
   ]
  },
  {
   "cell_type": "code",
   "execution_count": 99,
   "metadata": {},
   "outputs": [
    {
     "name": "stdout",
     "output_type": "stream",
     "text": [
      "Intercept: \n",
      " [14.84638197]\n",
      "Coefficients: \n",
      " [[-0.03590406  0.0856059  -0.10080439  0.07939623  0.08764874 -0.20750371\n",
      "   0.03761113  0.10250478  0.00932406  0.12867575 -0.11420405 -0.03460241\n",
      "   0.06443631 -0.15945052  0.12085577  0.87903786]]\n"
     ]
    }
   ],
   "source": [
    "# 1. With sklearn\n",
    "from sklearn import linear_model\n",
    "import statsmodels.api as sm\n",
    "regr = linear_model.LinearRegression()\n",
    "regr.fit(x, y)\n",
    "\n",
    "print('Intercept: \\n', regr.intercept_)\n",
    "print('Coefficients: \\n', regr.coef_)\n",
    "\n",
    "# T-11 strong negative "
   ]
  },
  {
   "cell_type": "code",
   "execution_count": 90,
   "metadata": {},
   "outputs": [],
   "source": [
    "#Fitting Simple Linear regression data model\n",
    "from sklearn.linear_model import LinearRegression\n",
    "regressorObject=LinearRegression()\n",
    "regressorObject.fit(x,y)\n",
    "\n",
    "#predict number of surgeries for the data set\n",
    "predict = df1.loc[2:242, 'T - 3':'T - 1']\n",
    "y_pred_test_data=regressorObject.predict(predict)"
   ]
  },
  {
   "cell_type": "code",
   "execution_count": 91,
   "metadata": {},
   "outputs": [],
   "source": [
    "Predicted = pd.DataFrame(y_pred_test_data, columns = ['Predicted'])"
   ]
  },
  {
   "cell_type": "code",
   "execution_count": 92,
   "metadata": {},
   "outputs": [],
   "source": [
    "result = pd.concat([df, Predicted], ignore_index=True, axis=1)\n",
    "result.columns = ['SurgDate', 'DOW', 'T - 28', 'T - 21', 'T - 14', 'T - 13', 'T - 12', 'T - 11',' T - 10', 'T - 9',\n",
    "                  'T - 8', 'T - 7', 'T - 6', 'T - 5', 'T - 4', 'T - 3', 'T - 2', 'T - 1', 'Actual', 'Predicted']\n",
    "result['Predicted'] = round(result['Predicted'])"
   ]
  },
  {
   "cell_type": "code",
   "execution_count": 93,
   "metadata": {},
   "outputs": [
    {
     "data": {
      "text/html": [
       "<div>\n",
       "<style scoped>\n",
       "    .dataframe tbody tr th:only-of-type {\n",
       "        vertical-align: middle;\n",
       "    }\n",
       "\n",
       "    .dataframe tbody tr th {\n",
       "        vertical-align: top;\n",
       "    }\n",
       "\n",
       "    .dataframe thead th {\n",
       "        text-align: right;\n",
       "    }\n",
       "</style>\n",
       "<table border=\"1\" class=\"dataframe\">\n",
       "  <thead>\n",
       "    <tr style=\"text-align: right;\">\n",
       "      <th></th>\n",
       "      <th>SurgDate</th>\n",
       "      <th>DOW</th>\n",
       "      <th>T - 28</th>\n",
       "      <th>T - 21</th>\n",
       "      <th>T - 14</th>\n",
       "      <th>T - 13</th>\n",
       "      <th>T - 12</th>\n",
       "      <th>T - 11</th>\n",
       "      <th>T - 10</th>\n",
       "      <th>T - 9</th>\n",
       "      <th>T - 8</th>\n",
       "      <th>T - 7</th>\n",
       "      <th>T - 6</th>\n",
       "      <th>T - 5</th>\n",
       "      <th>T - 4</th>\n",
       "      <th>T - 3</th>\n",
       "      <th>T - 2</th>\n",
       "      <th>T - 1</th>\n",
       "      <th>Actual</th>\n",
       "      <th>Predicted</th>\n",
       "    </tr>\n",
       "  </thead>\n",
       "  <tbody>\n",
       "    <tr>\n",
       "      <th>225</th>\n",
       "      <td>2012-08-23</td>\n",
       "      <td>Thu</td>\n",
       "      <td>41</td>\n",
       "      <td>48</td>\n",
       "      <td>89</td>\n",
       "      <td>98</td>\n",
       "      <td>98</td>\n",
       "      <td>98</td>\n",
       "      <td>100</td>\n",
       "      <td>110</td>\n",
       "      <td>113</td>\n",
       "      <td>117</td>\n",
       "      <td>112</td>\n",
       "      <td>112</td>\n",
       "      <td>113</td>\n",
       "      <td>114</td>\n",
       "      <td>119</td>\n",
       "      <td>129</td>\n",
       "      <td>127</td>\n",
       "      <td>122.0</td>\n",
       "    </tr>\n",
       "    <tr>\n",
       "      <th>226</th>\n",
       "      <td>2012-08-24</td>\n",
       "      <td>Fri</td>\n",
       "      <td>29</td>\n",
       "      <td>34</td>\n",
       "      <td>67</td>\n",
       "      <td>67</td>\n",
       "      <td>67</td>\n",
       "      <td>67</td>\n",
       "      <td>75</td>\n",
       "      <td>91</td>\n",
       "      <td>95</td>\n",
       "      <td>104</td>\n",
       "      <td>104</td>\n",
       "      <td>104</td>\n",
       "      <td>108</td>\n",
       "      <td>115</td>\n",
       "      <td>119</td>\n",
       "      <td>126</td>\n",
       "      <td>126</td>\n",
       "      <td>122.0</td>\n",
       "    </tr>\n",
       "    <tr>\n",
       "      <th>227</th>\n",
       "      <td>2012-08-27</td>\n",
       "      <td>Mon</td>\n",
       "      <td>40</td>\n",
       "      <td>44</td>\n",
       "      <td>66</td>\n",
       "      <td>69</td>\n",
       "      <td>79</td>\n",
       "      <td>82</td>\n",
       "      <td>85</td>\n",
       "      <td>85</td>\n",
       "      <td>86</td>\n",
       "      <td>92</td>\n",
       "      <td>98</td>\n",
       "      <td>107</td>\n",
       "      <td>109</td>\n",
       "      <td>111</td>\n",
       "      <td>116</td>\n",
       "      <td>123</td>\n",
       "      <td>127</td>\n",
       "      <td>102.0</td>\n",
       "    </tr>\n",
       "    <tr>\n",
       "      <th>228</th>\n",
       "      <td>2012-08-28</td>\n",
       "      <td>Tue</td>\n",
       "      <td>34</td>\n",
       "      <td>56</td>\n",
       "      <td>69</td>\n",
       "      <td>84</td>\n",
       "      <td>91</td>\n",
       "      <td>94</td>\n",
       "      <td>94</td>\n",
       "      <td>94</td>\n",
       "      <td>99</td>\n",
       "      <td>103</td>\n",
       "      <td>110</td>\n",
       "      <td>119</td>\n",
       "      <td>124</td>\n",
       "      <td>125</td>\n",
       "      <td>128</td>\n",
       "      <td>139</td>\n",
       "      <td>139</td>\n",
       "      <td>125.0</td>\n",
       "    </tr>\n",
       "    <tr>\n",
       "      <th>229</th>\n",
       "      <td>2012-08-29</td>\n",
       "      <td>Wed</td>\n",
       "      <td>36</td>\n",
       "      <td>57</td>\n",
       "      <td>76</td>\n",
       "      <td>81</td>\n",
       "      <td>87</td>\n",
       "      <td>87</td>\n",
       "      <td>87</td>\n",
       "      <td>92</td>\n",
       "      <td>99</td>\n",
       "      <td>101</td>\n",
       "      <td>102</td>\n",
       "      <td>104</td>\n",
       "      <td>103</td>\n",
       "      <td>103</td>\n",
       "      <td>107</td>\n",
       "      <td>114</td>\n",
       "      <td>125</td>\n",
       "      <td>100.0</td>\n",
       "    </tr>\n",
       "    <tr>\n",
       "      <th>230</th>\n",
       "      <td>2012-08-30</td>\n",
       "      <td>Thu</td>\n",
       "      <td>29</td>\n",
       "      <td>59</td>\n",
       "      <td>86</td>\n",
       "      <td>88</td>\n",
       "      <td>88</td>\n",
       "      <td>88</td>\n",
       "      <td>97</td>\n",
       "      <td>102</td>\n",
       "      <td>105</td>\n",
       "      <td>106</td>\n",
       "      <td>112</td>\n",
       "      <td>113</td>\n",
       "      <td>113</td>\n",
       "      <td>113</td>\n",
       "      <td>115</td>\n",
       "      <td>124</td>\n",
       "      <td>126</td>\n",
       "      <td>117.0</td>\n",
       "    </tr>\n",
       "    <tr>\n",
       "      <th>231</th>\n",
       "      <td>2012-08-31</td>\n",
       "      <td>Fri</td>\n",
       "      <td>19</td>\n",
       "      <td>38</td>\n",
       "      <td>58</td>\n",
       "      <td>58</td>\n",
       "      <td>58</td>\n",
       "      <td>62</td>\n",
       "      <td>68</td>\n",
       "      <td>71</td>\n",
       "      <td>80</td>\n",
       "      <td>86</td>\n",
       "      <td>86</td>\n",
       "      <td>86</td>\n",
       "      <td>94</td>\n",
       "      <td>93</td>\n",
       "      <td>99</td>\n",
       "      <td>116</td>\n",
       "      <td>124</td>\n",
       "      <td>105.0</td>\n",
       "    </tr>\n",
       "    <tr>\n",
       "      <th>232</th>\n",
       "      <td>2012-09-04</td>\n",
       "      <td>Tue</td>\n",
       "      <td>23</td>\n",
       "      <td>36</td>\n",
       "      <td>51</td>\n",
       "      <td>57</td>\n",
       "      <td>66</td>\n",
       "      <td>72</td>\n",
       "      <td>73</td>\n",
       "      <td>73</td>\n",
       "      <td>74</td>\n",
       "      <td>80</td>\n",
       "      <td>84</td>\n",
       "      <td>92</td>\n",
       "      <td>105</td>\n",
       "      <td>106</td>\n",
       "      <td>106</td>\n",
       "      <td>116</td>\n",
       "      <td>114</td>\n",
       "      <td>121.0</td>\n",
       "    </tr>\n",
       "    <tr>\n",
       "      <th>233</th>\n",
       "      <td>2012-09-05</td>\n",
       "      <td>Wed</td>\n",
       "      <td>27</td>\n",
       "      <td>37</td>\n",
       "      <td>47</td>\n",
       "      <td>54</td>\n",
       "      <td>60</td>\n",
       "      <td>60</td>\n",
       "      <td>60</td>\n",
       "      <td>61</td>\n",
       "      <td>70</td>\n",
       "      <td>70</td>\n",
       "      <td>74</td>\n",
       "      <td>81</td>\n",
       "      <td>81</td>\n",
       "      <td>82</td>\n",
       "      <td>85</td>\n",
       "      <td>95</td>\n",
       "      <td>103</td>\n",
       "      <td>113.0</td>\n",
       "    </tr>\n",
       "    <tr>\n",
       "      <th>234</th>\n",
       "      <td>2012-09-06</td>\n",
       "      <td>Thu</td>\n",
       "      <td>23</td>\n",
       "      <td>42</td>\n",
       "      <td>70</td>\n",
       "      <td>80</td>\n",
       "      <td>81</td>\n",
       "      <td>81</td>\n",
       "      <td>87</td>\n",
       "      <td>86</td>\n",
       "      <td>93</td>\n",
       "      <td>99</td>\n",
       "      <td>105</td>\n",
       "      <td>105</td>\n",
       "      <td>105</td>\n",
       "      <td>106</td>\n",
       "      <td>108</td>\n",
       "      <td>119</td>\n",
       "      <td>126</td>\n",
       "      <td>108.0</td>\n",
       "    </tr>\n",
       "  </tbody>\n",
       "</table>\n",
       "</div>"
      ],
      "text/plain": [
       "      SurgDate  DOW  T - 28  T - 21  T - 14  T - 13  T - 12  T - 11   T - 10  \\\n",
       "225 2012-08-23  Thu      41      48      89      98      98      98      100   \n",
       "226 2012-08-24  Fri      29      34      67      67      67      67       75   \n",
       "227 2012-08-27  Mon      40      44      66      69      79      82       85   \n",
       "228 2012-08-28  Tue      34      56      69      84      91      94       94   \n",
       "229 2012-08-29  Wed      36      57      76      81      87      87       87   \n",
       "230 2012-08-30  Thu      29      59      86      88      88      88       97   \n",
       "231 2012-08-31  Fri      19      38      58      58      58      62       68   \n",
       "232 2012-09-04  Tue      23      36      51      57      66      72       73   \n",
       "233 2012-09-05  Wed      27      37      47      54      60      60       60   \n",
       "234 2012-09-06  Thu      23      42      70      80      81      81       87   \n",
       "\n",
       "     T - 9  T - 8  T - 7  T - 6  T - 5  T - 4  T - 3  T - 2  T - 1  Actual  \\\n",
       "225    110    113    117    112    112    113    114    119    129     127   \n",
       "226     91     95    104    104    104    108    115    119    126     126   \n",
       "227     85     86     92     98    107    109    111    116    123     127   \n",
       "228     94     99    103    110    119    124    125    128    139     139   \n",
       "229     92     99    101    102    104    103    103    107    114     125   \n",
       "230    102    105    106    112    113    113    113    115    124     126   \n",
       "231     71     80     86     86     86     94     93     99    116     124   \n",
       "232     73     74     80     84     92    105    106    106    116     114   \n",
       "233     61     70     70     74     81     81     82     85     95     103   \n",
       "234     86     93     99    105    105    105    106    108    119     126   \n",
       "\n",
       "     Predicted  \n",
       "225      122.0  \n",
       "226      122.0  \n",
       "227      102.0  \n",
       "228      125.0  \n",
       "229      100.0  \n",
       "230      117.0  \n",
       "231      105.0  \n",
       "232      121.0  \n",
       "233      113.0  \n",
       "234      108.0  "
      ]
     },
     "execution_count": 93,
     "metadata": {},
     "output_type": "execute_result"
    }
   ],
   "source": [
    "final = result.dropna()\n",
    "final.tail(10)"
   ]
  },
  {
   "cell_type": "code",
   "execution_count": 94,
   "metadata": {},
   "outputs": [
    {
     "data": {
      "text/plain": [
       "20.653782302625718"
      ]
     },
     "execution_count": 94,
     "metadata": {},
     "output_type": "execute_result"
    }
   ],
   "source": [
    "from sklearn.metrics import mean_squared_error\n",
    "from math import sqrt\n",
    "y_actual = final['Actual']\n",
    "y_predicted = final['Predicted']\n",
    "rms = sqrt(mean_squared_error(y_actual, y_predicted))\n",
    "rms"
   ]
  },
  {
   "cell_type": "code",
   "execution_count": 95,
   "metadata": {},
   "outputs": [
    {
     "name": "stdout",
     "output_type": "stream",
     "text": [
      "Results by manual calculation:\n",
      "MAE: 14.953191489361702\n",
      "MSE: 426.5787234042553\n",
      "RMSE: 20.653782302625718\n",
      "R-Squared: -0.3528353839078937\n"
     ]
    }
   ],
   "source": [
    "y = final['Actual']\n",
    "yhat = final['Predicted']\n",
    "d = y - yhat\n",
    "mse_f = np.mean(d**2)\n",
    "mae_f = np.mean(abs(d))\n",
    "rmse_f = np.sqrt(mse_f)\n",
    "r2_f = 1-(sum(d**2)/sum((y-np.mean(y))**2))\n",
    "\n",
    "print(\"Results by manual calculation:\")\n",
    "print(\"MAE:\",mae_f)\n",
    "print(\"MSE:\", mse_f)\n",
    "print(\"RMSE:\", rmse_f)\n",
    "print(\"R-Squared:\", r2_f)"
   ]
  },
  {
   "cell_type": "code",
   "execution_count": 96,
   "metadata": {},
   "outputs": [],
   "source": [
    "#Predicting results for 3 days before the Surgery Date\n",
    "    \n",
    "x = df1[['T - 28', 'T - 21', 'T - 14', 'T - 13', 'T - 12', 'T - 11', 'T - 10', 'T - 9', 'T - 8', 'T - 7', \n",
    "         'T - 6', 'T - 5', 'T - 4', 'T - 3', 'T - 2', 'T - 1']]\n",
    "y = df1[['Actual']]"
   ]
  },
  {
   "cell_type": "code",
   "execution_count": 33,
   "metadata": {},
   "outputs": [
    {
     "name": "stdout",
     "output_type": "stream",
     "text": [
      "Intercept: \n",
      " [14.84638197]\n",
      "Coefficients: \n",
      " [[-0.03590406  0.0856059  -0.10080439  0.07939623  0.08764874 -0.20750371\n",
      "   0.03761113  0.10250478  0.00932406  0.12867575 -0.11420405 -0.03460241\n",
      "   0.06443631 -0.15945052  0.12085577  0.87903786]]\n"
     ]
    }
   ],
   "source": [
    "# 1. With sklearn\n",
    "from sklearn import linear_model\n",
    "import statsmodels.api as sm\n",
    "regr = linear_model.LinearRegression()\n",
    "regr.fit(x, y)\n",
    "\n",
    "print('Intercept: \\n', regr.intercept_)\n",
    "print('Coefficients: \\n', regr.coef_)\n",
    "\n",
    "# T-11 strong negative "
   ]
  },
  {
   "cell_type": "code",
   "execution_count": 110,
   "metadata": {},
   "outputs": [
    {
     "ename": "ValueError",
     "evalue": "The feature names should match those that were passed during fit.\nFeature names unseen at fit time:\n- T - 10\n- T - 11\n- T - 12\n- T - 13\n- T - 14\n- ...\nFeature names seen at fit time, yet now missing:\n- T - 1\n- T - 2\n- T - 3\n",
     "output_type": "error",
     "traceback": [
      "\u001b[1;31m---------------------------------------------------------------------------\u001b[0m",
      "\u001b[1;31mValueError\u001b[0m                                Traceback (most recent call last)",
      "\u001b[1;32mc:\\Users\\Rediuser\\Desktop\\Data Analytics - ReDI\\Final Project\\Final_ProjectDA.ipynb Cell 36\u001b[0m line \u001b[0;36m8\n\u001b[0;32m      <a href='vscode-notebook-cell:/c%3A/Users/Rediuser/Desktop/Data%20Analytics%20-%20ReDI/Final%20Project/Final_ProjectDA.ipynb#X53sZmlsZQ%3D%3D?line=5'>6</a>\u001b[0m \u001b[39m#predict number of surgeries for the data set\u001b[39;00m\n\u001b[0;32m      <a href='vscode-notebook-cell:/c%3A/Users/Rediuser/Desktop/Data%20Analytics%20-%20ReDI/Final%20Project/Final_ProjectDA.ipynb#X53sZmlsZQ%3D%3D?line=6'>7</a>\u001b[0m predict \u001b[39m=\u001b[39m df1\u001b[39m.\u001b[39mloc[\u001b[39m2\u001b[39m:\u001b[39m242\u001b[39m, \u001b[39m'\u001b[39m\u001b[39mT - 28\u001b[39m\u001b[39m'\u001b[39m:\u001b[39m'\u001b[39m\u001b[39mT - 4\u001b[39m\u001b[39m'\u001b[39m]\n\u001b[1;32m----> <a href='vscode-notebook-cell:/c%3A/Users/Rediuser/Desktop/Data%20Analytics%20-%20ReDI/Final%20Project/Final_ProjectDA.ipynb#X53sZmlsZQ%3D%3D?line=7'>8</a>\u001b[0m y_pred_test_data\u001b[39m=\u001b[39mregressorObject\u001b[39m.\u001b[39;49mpredict(predict)\n",
      "File \u001b[1;32mc:\\Users\\Rediuser\\AppData\\Local\\Programs\\Python\\Python311\\Lib\\site-packages\\sklearn\\linear_model\\_base.py:386\u001b[0m, in \u001b[0;36mLinearModel.predict\u001b[1;34m(self, X)\u001b[0m\n\u001b[0;32m    372\u001b[0m \u001b[39mdef\u001b[39;00m \u001b[39mpredict\u001b[39m(\u001b[39mself\u001b[39m, X):\n\u001b[0;32m    373\u001b[0m \u001b[39m    \u001b[39m\u001b[39m\"\"\"\u001b[39;00m\n\u001b[0;32m    374\u001b[0m \u001b[39m    Predict using the linear model.\u001b[39;00m\n\u001b[0;32m    375\u001b[0m \n\u001b[1;32m   (...)\u001b[0m\n\u001b[0;32m    384\u001b[0m \u001b[39m        Returns predicted values.\u001b[39;00m\n\u001b[0;32m    385\u001b[0m \u001b[39m    \"\"\"\u001b[39;00m\n\u001b[1;32m--> 386\u001b[0m     \u001b[39mreturn\u001b[39;00m \u001b[39mself\u001b[39;49m\u001b[39m.\u001b[39;49m_decision_function(X)\n",
      "File \u001b[1;32mc:\\Users\\Rediuser\\AppData\\Local\\Programs\\Python\\Python311\\Lib\\site-packages\\sklearn\\linear_model\\_base.py:369\u001b[0m, in \u001b[0;36mLinearModel._decision_function\u001b[1;34m(self, X)\u001b[0m\n\u001b[0;32m    366\u001b[0m \u001b[39mdef\u001b[39;00m \u001b[39m_decision_function\u001b[39m(\u001b[39mself\u001b[39m, X):\n\u001b[0;32m    367\u001b[0m     check_is_fitted(\u001b[39mself\u001b[39m)\n\u001b[1;32m--> 369\u001b[0m     X \u001b[39m=\u001b[39m \u001b[39mself\u001b[39;49m\u001b[39m.\u001b[39;49m_validate_data(X, accept_sparse\u001b[39m=\u001b[39;49m[\u001b[39m\"\u001b[39;49m\u001b[39mcsr\u001b[39;49m\u001b[39m\"\u001b[39;49m, \u001b[39m\"\u001b[39;49m\u001b[39mcsc\u001b[39;49m\u001b[39m\"\u001b[39;49m, \u001b[39m\"\u001b[39;49m\u001b[39mcoo\u001b[39;49m\u001b[39m\"\u001b[39;49m], reset\u001b[39m=\u001b[39;49m\u001b[39mFalse\u001b[39;49;00m)\n\u001b[0;32m    370\u001b[0m     \u001b[39mreturn\u001b[39;00m safe_sparse_dot(X, \u001b[39mself\u001b[39m\u001b[39m.\u001b[39mcoef_\u001b[39m.\u001b[39mT, dense_output\u001b[39m=\u001b[39m\u001b[39mTrue\u001b[39;00m) \u001b[39m+\u001b[39m \u001b[39mself\u001b[39m\u001b[39m.\u001b[39mintercept_\n",
      "File \u001b[1;32mc:\\Users\\Rediuser\\AppData\\Local\\Programs\\Python\\Python311\\Lib\\site-packages\\sklearn\\base.py:580\u001b[0m, in \u001b[0;36mBaseEstimator._validate_data\u001b[1;34m(self, X, y, reset, validate_separately, cast_to_ndarray, **check_params)\u001b[0m\n\u001b[0;32m    509\u001b[0m \u001b[39mdef\u001b[39;00m \u001b[39m_validate_data\u001b[39m(\n\u001b[0;32m    510\u001b[0m     \u001b[39mself\u001b[39m,\n\u001b[0;32m    511\u001b[0m     X\u001b[39m=\u001b[39m\u001b[39m\"\u001b[39m\u001b[39mno_validation\u001b[39m\u001b[39m\"\u001b[39m,\n\u001b[1;32m   (...)\u001b[0m\n\u001b[0;32m    516\u001b[0m     \u001b[39m*\u001b[39m\u001b[39m*\u001b[39mcheck_params,\n\u001b[0;32m    517\u001b[0m ):\n\u001b[0;32m    518\u001b[0m \u001b[39m    \u001b[39m\u001b[39m\"\"\"Validate input data and set or check the `n_features_in_` attribute.\u001b[39;00m\n\u001b[0;32m    519\u001b[0m \n\u001b[0;32m    520\u001b[0m \u001b[39m    Parameters\u001b[39;00m\n\u001b[1;32m   (...)\u001b[0m\n\u001b[0;32m    578\u001b[0m \u001b[39m        validated.\u001b[39;00m\n\u001b[0;32m    579\u001b[0m \u001b[39m    \"\"\"\u001b[39;00m\n\u001b[1;32m--> 580\u001b[0m     \u001b[39mself\u001b[39;49m\u001b[39m.\u001b[39;49m_check_feature_names(X, reset\u001b[39m=\u001b[39;49mreset)\n\u001b[0;32m    582\u001b[0m     \u001b[39mif\u001b[39;00m y \u001b[39mis\u001b[39;00m \u001b[39mNone\u001b[39;00m \u001b[39mand\u001b[39;00m \u001b[39mself\u001b[39m\u001b[39m.\u001b[39m_get_tags()[\u001b[39m\"\u001b[39m\u001b[39mrequires_y\u001b[39m\u001b[39m\"\u001b[39m]:\n\u001b[0;32m    583\u001b[0m         \u001b[39mraise\u001b[39;00m \u001b[39mValueError\u001b[39;00m(\n\u001b[0;32m    584\u001b[0m             \u001b[39mf\u001b[39m\u001b[39m\"\u001b[39m\u001b[39mThis \u001b[39m\u001b[39m{\u001b[39;00m\u001b[39mself\u001b[39m\u001b[39m.\u001b[39m\u001b[39m__class__\u001b[39m\u001b[39m.\u001b[39m\u001b[39m__name__\u001b[39m\u001b[39m}\u001b[39;00m\u001b[39m estimator \u001b[39m\u001b[39m\"\u001b[39m\n\u001b[0;32m    585\u001b[0m             \u001b[39m\"\u001b[39m\u001b[39mrequires y to be passed, but the target y is None.\u001b[39m\u001b[39m\"\u001b[39m\n\u001b[0;32m    586\u001b[0m         )\n",
      "File \u001b[1;32mc:\\Users\\Rediuser\\AppData\\Local\\Programs\\Python\\Python311\\Lib\\site-packages\\sklearn\\base.py:507\u001b[0m, in \u001b[0;36mBaseEstimator._check_feature_names\u001b[1;34m(self, X, reset)\u001b[0m\n\u001b[0;32m    502\u001b[0m \u001b[39mif\u001b[39;00m \u001b[39mnot\u001b[39;00m missing_names \u001b[39mand\u001b[39;00m \u001b[39mnot\u001b[39;00m unexpected_names:\n\u001b[0;32m    503\u001b[0m     message \u001b[39m+\u001b[39m\u001b[39m=\u001b[39m (\n\u001b[0;32m    504\u001b[0m         \u001b[39m\"\u001b[39m\u001b[39mFeature names must be in the same order as they were in fit.\u001b[39m\u001b[39m\\n\u001b[39;00m\u001b[39m\"\u001b[39m\n\u001b[0;32m    505\u001b[0m     )\n\u001b[1;32m--> 507\u001b[0m \u001b[39mraise\u001b[39;00m \u001b[39mValueError\u001b[39;00m(message)\n",
      "\u001b[1;31mValueError\u001b[0m: The feature names should match those that were passed during fit.\nFeature names unseen at fit time:\n- T - 10\n- T - 11\n- T - 12\n- T - 13\n- T - 14\n- ...\nFeature names seen at fit time, yet now missing:\n- T - 1\n- T - 2\n- T - 3\n"
     ]
    }
   ],
   "source": [
    "#Fitting Simple Linear regression data model\n",
    "from sklearn.linear_model import LinearRegression\n",
    "regressorObject=LinearRegression()\n",
    "regressorObject.fit(x,y)\n",
    "\n",
    "#predict number of surgeries for the data set\n",
    "predict = df1.loc[2:242, 'T - 28':'T - 4']\n",
    "y_pred_test_data=regressorObject.predict(predict)"
   ]
  },
  {
   "cell_type": "code",
   "execution_count": 102,
   "metadata": {},
   "outputs": [],
   "source": [
    "Predicted = pd.DataFrame(y_pred_test_data, columns = ['Predicted'])"
   ]
  },
  {
   "cell_type": "code",
   "execution_count": 103,
   "metadata": {},
   "outputs": [],
   "source": [
    "result2 = pd.concat([df, Predicted], ignore_index=True, axis=1)\n",
    "result2.columns = ['SurgDate', 'DOW', 'T - 28', 'T - 21', 'T - 14', 'T - 13', 'T - 12', 'T - 11',' T - 10', 'T - 9',\n",
    "                  'T - 8', 'T - 7', 'T - 6', 'T - 5', 'T - 4', 'T - 3', 'T - 2', 'T - 1', 'Actual', 'Predicted']\n",
    "result2['Predicted'] = round(result2['Predicted'])"
   ]
  },
  {
   "cell_type": "code",
   "execution_count": 111,
   "metadata": {},
   "outputs": [],
   "source": [
    "final2 = result2.dropna()"
   ]
  },
  {
   "cell_type": "code",
   "execution_count": 112,
   "metadata": {},
   "outputs": [
    {
     "data": {
      "text/plain": [
       "(116, 118)"
      ]
     },
     "execution_count": 112,
     "metadata": {},
     "output_type": "execute_result"
    }
   ],
   "source": [
    "round(result['Actual'].mean()), round(result2['Predicted'].mean())\n",
    "\n",
    "# Average Daily Error: ~2 Surgeries"
   ]
  },
  {
   "cell_type": "code",
   "execution_count": 113,
   "metadata": {},
   "outputs": [
    {
     "data": {
      "text/plain": [
       "20.653782302625718"
      ]
     },
     "execution_count": 113,
     "metadata": {},
     "output_type": "execute_result"
    }
   ],
   "source": [
    "from sklearn.metrics import mean_squared_error\n",
    "from math import sqrt\n",
    "y_actual = final2['Actual']\n",
    "y_predicted = final2['Predicted']\n",
    "rms = sqrt(mean_squared_error(y_actual, y_predicted))\n",
    "rms"
   ]
  },
  {
   "cell_type": "code",
   "execution_count": 114,
   "metadata": {},
   "outputs": [
    {
     "name": "stdout",
     "output_type": "stream",
     "text": [
      "Results by manual calculation:\n",
      "MAE: 14.953191489361702\n",
      "MSE: 426.5787234042553\n",
      "RMSE: 20.653782302625718\n",
      "R-Squared: -0.3528353839078937\n"
     ]
    }
   ],
   "source": [
    "y = final2['Actual']\n",
    "yhat = final2['Predicted']\n",
    "d = y - yhat\n",
    "mse_f = np.mean(d**2)\n",
    "mae_f = np.mean(abs(d))\n",
    "rmse_f = np.sqrt(mse_f)\n",
    "r2_f = 1-(sum(d**2)/sum((y-np.mean(y))**2))\n",
    "\n",
    "print(\"Results by manual calculation:\")\n",
    "print(\"MAE:\",mae_f)\n",
    "print(\"MSE:\", mse_f)\n",
    "print(\"RMSE:\", rmse_f)\n",
    "print(\"R-Squared:\", r2_f)"
   ]
  },
  {
   "cell_type": "code",
   "execution_count": 115,
   "metadata": {},
   "outputs": [],
   "source": [
    "#Predicting results for 7 days before the surgery date\n",
    "    \n",
    "x = df1[['T - 28', 'T - 21', 'T - 14', 'T - 13', 'T - 12', 'T - 11', 'T - 10', 'T - 9', 'T - 8']]\n",
    "y = df1[['Actual']]"
   ]
  },
  {
   "cell_type": "code",
   "execution_count": 116,
   "metadata": {},
   "outputs": [],
   "source": [
    "#Fitting Simple Linear regression data model\n",
    "from sklearn.linear_model import LinearRegression\n",
    "regressorObject=LinearRegression()\n",
    "regressorObject.fit(x,y)\n",
    "\n",
    "#predict number of surgeries for the data set\n",
    "predict = df1.loc[2:242, 'T - 28':'T - 8']\n",
    "y_pred_test_data=regressorObject.predict(predict)\n"
   ]
  },
  {
   "cell_type": "code",
   "execution_count": 117,
   "metadata": {},
   "outputs": [],
   "source": [
    "Predicted = pd.DataFrame(y_pred_test_data, columns = ['Predicted'])"
   ]
  },
  {
   "cell_type": "code",
   "execution_count": 118,
   "metadata": {},
   "outputs": [],
   "source": [
    "result3 = pd.concat([df, Predicted], ignore_index=True, axis=1)\n",
    "result3.columns = ['SurgDate', 'DOW', 'T - 28', 'T - 21', 'T - 14', 'T - 13', 'T - 12', 'T - 11',' T - 10', 'T - 9',\n",
    "                  'T - 8', 'T - 7', 'T - 6', 'T - 5', 'T - 4', 'T - 3', 'T - 2', 'T - 1', 'Actual', 'Predicted']\n",
    "result3['Predicted'] = round(result3['Predicted'])"
   ]
  },
  {
   "cell_type": "code",
   "execution_count": 119,
   "metadata": {},
   "outputs": [],
   "source": [
    "final3 = result3.dropna()"
   ]
  },
  {
   "cell_type": "code",
   "execution_count": 120,
   "metadata": {},
   "outputs": [
    {
     "data": {
      "text/plain": [
       "(116, 118)"
      ]
     },
     "execution_count": 120,
     "metadata": {},
     "output_type": "execute_result"
    }
   ],
   "source": [
    "round(result['Actual'].mean()), round(final3['Predicted'].mean())\n",
    "\n",
    "# Average Daily Error: ~2 Surgeries"
   ]
  },
  {
   "cell_type": "code",
   "execution_count": 124,
   "metadata": {},
   "outputs": [
    {
     "name": "stdout",
     "output_type": "stream",
     "text": [
      "Results by manual calculation:\n",
      "MAE: 13.565957446808511\n",
      "MSE: 375.6085106382979\n",
      "RMSE: 19.380622039508893\n",
      "R-Squared: -0.19119040826349143\n"
     ]
    }
   ],
   "source": [
    "y = final3['Actual']\n",
    "yhat = final3['Predicted']\n",
    "d = y - yhat\n",
    "mse_f = np.mean(d**2)\n",
    "mae_f = np.mean(abs(d))\n",
    "rmse_f = np.sqrt(mse_f)\n",
    "r2_f = 1-(sum(d**2)/sum((y-np.mean(y))**2))\n",
    "\n",
    "print(\"Results by manual calculation:\")\n",
    "print(\"MAE:\",mae_f)\n",
    "print(\"MSE:\", mse_f)\n",
    "print(\"RMSE:\", rmse_f)\n",
    "print(\"R-Squared:\", r2_f)"
   ]
  },
  {
   "cell_type": "code",
   "execution_count": 125,
   "metadata": {},
   "outputs": [
    {
     "data": {
      "text/plain": [
       "<matplotlib.legend.Legend at 0x1378b23f610>"
      ]
     },
     "execution_count": 125,
     "metadata": {},
     "output_type": "execute_result"
    },
    {
     "data": {
      "image/png": "[encoded data removed]",
      "text/plain": [
       "<Figure size 1500x800 with 1 Axes>"
      ]
     },
     "metadata": {},
     "output_type": "display_data"
    }
   ],
   "source": [
    "plt.figure(figsize=[15,8])\n",
    "plt.grid(True)\n",
    "plt.plot(result['Actual'],label='Actual')\n",
    "plt.plot(result['Predicted'],label='Predicted')\n",
    "# plt.plot(df['SMA_4'],label='SMA 4 Months')\n",
    "plt.legend(loc=2)"
   ]
  }
 ],
 "metadata": {
  "kernelspec": {
   "display_name": "Python 3",
   "language": "python",
   "name": "python3"
  },
  "language_info": {
   "codemirror_mode": {
    "name": "ipython",
    "version": 3
   },
   "file_extension": ".py",
   "mimetype": "text/x-python",
   "name": "python",
   "nbconvert_exporter": "python",
   "pygments_lexer": "ipython3",
   "version": "3.11.5"
  }
 },
 "nbformat": 4,
 "nbformat_minor": 2
}
